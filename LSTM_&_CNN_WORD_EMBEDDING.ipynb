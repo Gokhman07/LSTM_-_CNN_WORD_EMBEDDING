{
  "nbformat": 4,
  "nbformat_minor": 0,
  "metadata": {
    "accelerator": "GPU",
    "colab": {
      "provenance": [],
      "collapsed_sections": []
    },
    "kernelspec": {
      "display_name": "Python 3",
      "name": "python3"
    },
    "widgets": {
      "application/vnd.jupyter.widget-state+json": {
        "cd993322d7544899bd216870b26a69ac": {
          "model_module": "@jupyter-widgets/controls",
          "model_name": "VBoxModel",
          "state": {
            "_view_name": "VBoxView",
            "_dom_classes": [],
            "_model_name": "VBoxModel",
            "_view_module": "@jupyter-widgets/controls",
            "_model_module_version": "1.5.0",
            "_view_count": null,
            "_view_module_version": "1.5.0",
            "box_style": "",
            "layout": "IPY_MODEL_24a64be9db6d43cca2729378394f5f55",
            "_model_module": "@jupyter-widgets/controls",
            "children": [
              "IPY_MODEL_818f402bb9f84bc6917e0d65e15a9531",
              "IPY_MODEL_e5566d3ede604edf9a26192171e53c17"
            ]
          },
          "model_module_version": "1.5.0"
        },
        "24a64be9db6d43cca2729378394f5f55": {
          "model_module": "@jupyter-widgets/base",
          "model_name": "LayoutModel",
          "state": {
            "_view_name": "LayoutView",
            "grid_template_rows": null,
            "right": null,
            "justify_content": null,
            "_view_module": "@jupyter-widgets/base",
            "overflow": null,
            "_model_module_version": "1.2.0",
            "_view_count": null,
            "flex_flow": null,
            "width": null,
            "min_width": null,
            "border": null,
            "align_items": null,
            "bottom": null,
            "_model_module": "@jupyter-widgets/base",
            "top": null,
            "grid_column": null,
            "overflow_y": null,
            "overflow_x": null,
            "grid_auto_flow": null,
            "grid_area": null,
            "grid_template_columns": null,
            "flex": null,
            "_model_name": "LayoutModel",
            "justify_items": null,
            "grid_row": null,
            "max_height": null,
            "align_content": null,
            "visibility": null,
            "align_self": null,
            "height": null,
            "min_height": null,
            "padding": null,
            "grid_auto_rows": null,
            "grid_gap": null,
            "max_width": null,
            "order": null,
            "_view_module_version": "1.2.0",
            "grid_template_areas": null,
            "object_position": null,
            "object_fit": null,
            "grid_auto_columns": null,
            "margin": null,
            "display": null,
            "left": null
          },
          "model_module_version": "1.2.0"
        },
        "818f402bb9f84bc6917e0d65e15a9531": {
          "model_module": "@jupyter-widgets/controls",
          "model_name": "LabelModel",
          "state": {
            "_view_name": "LabelView",
            "style": "IPY_MODEL_cee2617a9a8d454e9ee79585af489c72",
            "_dom_classes": [],
            "description": "",
            "_model_name": "LabelModel",
            "placeholder": "​",
            "_view_module": "@jupyter-widgets/controls",
            "_model_module_version": "1.5.0",
            "value": " 24.26MB of 24.26MB uploaded (0.00MB deduped)\r",
            "_view_count": null,
            "_view_module_version": "1.5.0",
            "description_tooltip": null,
            "_model_module": "@jupyter-widgets/controls",
            "layout": "IPY_MODEL_b8315f923fff47fdbc93272a530affca"
          },
          "model_module_version": "1.5.0"
        },
        "e5566d3ede604edf9a26192171e53c17": {
          "model_module": "@jupyter-widgets/controls",
          "model_name": "FloatProgressModel",
          "state": {
            "_view_name": "ProgressView",
            "style": "IPY_MODEL_7d53aa66c9ab40b0a8668ae03b3bb3d2",
            "_dom_classes": [],
            "description": "",
            "_model_name": "FloatProgressModel",
            "bar_style": "",
            "max": 1,
            "_view_module": "@jupyter-widgets/controls",
            "_model_module_version": "1.5.0",
            "value": 1,
            "_view_count": null,
            "_view_module_version": "1.5.0",
            "orientation": "horizontal",
            "min": 0,
            "description_tooltip": null,
            "_model_module": "@jupyter-widgets/controls",
            "layout": "IPY_MODEL_b4f02d8fd5d248db8822a3e7e63478dd"
          },
          "model_module_version": "1.5.0"
        },
        "cee2617a9a8d454e9ee79585af489c72": {
          "model_module": "@jupyter-widgets/controls",
          "model_name": "DescriptionStyleModel",
          "state": {
            "_view_name": "StyleView",
            "_model_name": "DescriptionStyleModel",
            "description_width": "",
            "_view_module": "@jupyter-widgets/base",
            "_model_module_version": "1.5.0",
            "_view_count": null,
            "_view_module_version": "1.2.0",
            "_model_module": "@jupyter-widgets/controls"
          },
          "model_module_version": "1.5.0"
        },
        "b8315f923fff47fdbc93272a530affca": {
          "model_module": "@jupyter-widgets/base",
          "model_name": "LayoutModel",
          "state": {
            "_view_name": "LayoutView",
            "grid_template_rows": null,
            "right": null,
            "justify_content": null,
            "_view_module": "@jupyter-widgets/base",
            "overflow": null,
            "_model_module_version": "1.2.0",
            "_view_count": null,
            "flex_flow": null,
            "width": null,
            "min_width": null,
            "border": null,
            "align_items": null,
            "bottom": null,
            "_model_module": "@jupyter-widgets/base",
            "top": null,
            "grid_column": null,
            "overflow_y": null,
            "overflow_x": null,
            "grid_auto_flow": null,
            "grid_area": null,
            "grid_template_columns": null,
            "flex": null,
            "_model_name": "LayoutModel",
            "justify_items": null,
            "grid_row": null,
            "max_height": null,
            "align_content": null,
            "visibility": null,
            "align_self": null,
            "height": null,
            "min_height": null,
            "padding": null,
            "grid_auto_rows": null,
            "grid_gap": null,
            "max_width": null,
            "order": null,
            "_view_module_version": "1.2.0",
            "grid_template_areas": null,
            "object_position": null,
            "object_fit": null,
            "grid_auto_columns": null,
            "margin": null,
            "display": null,
            "left": null
          },
          "model_module_version": "1.2.0"
        },
        "7d53aa66c9ab40b0a8668ae03b3bb3d2": {
          "model_module": "@jupyter-widgets/controls",
          "model_name": "ProgressStyleModel",
          "state": {
            "_view_name": "StyleView",
            "_model_name": "ProgressStyleModel",
            "description_width": "",
            "_view_module": "@jupyter-widgets/base",
            "_model_module_version": "1.5.0",
            "_view_count": null,
            "_view_module_version": "1.2.0",
            "bar_color": null,
            "_model_module": "@jupyter-widgets/controls"
          },
          "model_module_version": "1.5.0"
        },
        "b4f02d8fd5d248db8822a3e7e63478dd": {
          "model_module": "@jupyter-widgets/base",
          "model_name": "LayoutModel",
          "state": {
            "_view_name": "LayoutView",
            "grid_template_rows": null,
            "right": null,
            "justify_content": null,
            "_view_module": "@jupyter-widgets/base",
            "overflow": null,
            "_model_module_version": "1.2.0",
            "_view_count": null,
            "flex_flow": null,
            "width": null,
            "min_width": null,
            "border": null,
            "align_items": null,
            "bottom": null,
            "_model_module": "@jupyter-widgets/base",
            "top": null,
            "grid_column": null,
            "overflow_y": null,
            "overflow_x": null,
            "grid_auto_flow": null,
            "grid_area": null,
            "grid_template_columns": null,
            "flex": null,
            "_model_name": "LayoutModel",
            "justify_items": null,
            "grid_row": null,
            "max_height": null,
            "align_content": null,
            "visibility": null,
            "align_self": null,
            "height": null,
            "min_height": null,
            "padding": null,
            "grid_auto_rows": null,
            "grid_gap": null,
            "max_width": null,
            "order": null,
            "_view_module_version": "1.2.0",
            "grid_template_areas": null,
            "object_position": null,
            "object_fit": null,
            "grid_auto_columns": null,
            "margin": null,
            "display": null,
            "left": null
          },
          "model_module_version": "1.2.0"
        }
      }
    }
  },
  "cells": [
    {
      "cell_type": "markdown",
      "metadata": {
        "id": "2wVpgWRgdq50"
      },
      "source": []
    },
    {
      "cell_type": "markdown",
      "metadata": {
        "id": "OvIW7qMOdyNO"
      },
      "source": [
        "Подключение библиотек"
      ]
    },
    {
      "cell_type": "code",
      "metadata": {
        "id": "azZFMA-YdrPw"
      },
      "source": [
        "import pandas as pd\n",
        "import numpy as np\n",
        "import os"
      ],
      "execution_count": null,
      "outputs": []
    },
    {
      "cell_type": "markdown",
      "metadata": {
        "id": "npJstQlWd6MH"
      },
      "source": [
        "Загрузка датасета"
      ]
    },
    {
      "cell_type": "code",
      "metadata": {
        "colab": {
          "base_uri": "https://localhost:8080/"
        },
        "id": "oVoXyLOqd8JY",
        "outputId": "99247e26-bf09-4240-ad20-edced4a9e47c"
      },
      "source": [
        "from google.colab import drive\n",
        "drive.mount('/content/gdrive')"
      ],
      "execution_count": null,
      "outputs": [
        {
          "output_type": "stream",
          "text": [
            "Mounted at /content/gdrive\n"
          ],
          "name": "stdout"
        }
      ]
    },
    {
      "cell_type": "code",
      "metadata": {
        "id": "zda2RsKUeE5g"
      },
      "source": [
        "original_path = '/content/gdrive/My Drive/Datasets/'"
      ],
      "execution_count": null,
      "outputs": []
    },
    {
      "cell_type": "code",
      "metadata": {
        "colab": {
          "base_uri": "https://localhost:8080/",
          "height": 35
        },
        "id": "MJesI2RJeJE5",
        "outputId": "d03eeb11-1cea-4a50-f759-1ad53206a7b9"
      },
      "source": [
        "data_dir = os.path.join(original_path)\n",
        "data_dir"
      ],
      "execution_count": null,
      "outputs": [
        {
          "output_type": "execute_result",
          "data": {
            "application/vnd.google.colaboratory.intrinsic+json": {
              "type": "string"
            },
            "text/plain": [
              "'/content/gdrive/My Drive/Datasets/'"
            ]
          },
          "metadata": {
            "tags": []
          },
          "execution_count": 5
        }
      ]
    },
    {
      "cell_type": "code",
      "metadata": {
        "id": "V-2qMOXyeMqb"
      },
      "source": [
        "df_url=os.path.join(data_dir, 'big_data.json')"
      ],
      "execution_count": null,
      "outputs": []
    },
    {
      "cell_type": "code",
      "metadata": {
        "id": "wkSXjgUTeQ1f"
      },
      "source": [
        "data=pd.read_json(df_url)"
      ],
      "execution_count": null,
      "outputs": []
    },
    {
      "cell_type": "markdown",
      "metadata": {
        "id": "PWRMm5WDeTYb"
      },
      "source": [
        "Формирование датасета"
      ]
    },
    {
      "cell_type": "code",
      "metadata": {
        "colab": {
          "base_uri": "https://localhost:8080/",
          "height": 49
        },
        "id": "-fmy2k-kedNz",
        "outputId": "12788284-be32-40a5-bdbe-70af24f755de"
      },
      "source": [
        "dic={\n",
        "     'element':[],\n",
        "     'signature':[],\n",
        "     'prediction':[]\n",
        "}\n",
        "df=pd.DataFrame(dic)\n",
        "df"
      ],
      "execution_count": null,
      "outputs": [
        {
          "output_type": "execute_result",
          "data": {
            "text/html": [
              "<div>\n",
              "<style scoped>\n",
              "    .dataframe tbody tr th:only-of-type {\n",
              "        vertical-align: middle;\n",
              "    }\n",
              "\n",
              "    .dataframe tbody tr th {\n",
              "        vertical-align: top;\n",
              "    }\n",
              "\n",
              "    .dataframe thead th {\n",
              "        text-align: right;\n",
              "    }\n",
              "</style>\n",
              "<table border=\"1\" class=\"dataframe\">\n",
              "  <thead>\n",
              "    <tr style=\"text-align: right;\">\n",
              "      <th></th>\n",
              "      <th>element</th>\n",
              "      <th>signature</th>\n",
              "      <th>prediction</th>\n",
              "    </tr>\n",
              "  </thead>\n",
              "  <tbody>\n",
              "  </tbody>\n",
              "</table>\n",
              "</div>"
            ],
            "text/plain": [
              "Empty DataFrame\n",
              "Columns: [element, signature, prediction]\n",
              "Index: []"
            ]
          },
          "metadata": {
            "tags": []
          },
          "execution_count": 8
        }
      ]
    },
    {
      "cell_type": "code",
      "metadata": {
        "id": "KUnOdoRqeVmP"
      },
      "source": [
        "k=0\n",
        "for i in data.rows.copy():\n",
        "  df.loc[k]=[i['element'],i['signature'],i['prediction']]\n",
        "  k=k+1\n"
      ],
      "execution_count": null,
      "outputs": []
    },
    {
      "cell_type": "code",
      "metadata": {
        "colab": {
          "base_uri": "https://localhost:8080/",
          "height": 142
        },
        "id": "3DbuSR8wfWBe",
        "outputId": "10705ce7-b94a-4b63-8d23-8ff593ea6a6d"
      },
      "source": [
        "df.head(3)"
      ],
      "execution_count": null,
      "outputs": [
        {
          "output_type": "execute_result",
          "data": {
            "text/html": [
              "<div>\n",
              "<style scoped>\n",
              "    .dataframe tbody tr th:only-of-type {\n",
              "        vertical-align: middle;\n",
              "    }\n",
              "\n",
              "    .dataframe tbody tr th {\n",
              "        vertical-align: top;\n",
              "    }\n",
              "\n",
              "    .dataframe thead th {\n",
              "        text-align: right;\n",
              "    }\n",
              "</style>\n",
              "<table border=\"1\" class=\"dataframe\">\n",
              "  <thead>\n",
              "    <tr style=\"text-align: right;\">\n",
              "      <th></th>\n",
              "      <th>element</th>\n",
              "      <th>signature</th>\n",
              "      <th>prediction</th>\n",
              "    </tr>\n",
              "  </thead>\n",
              "  <tbody>\n",
              "    <tr>\n",
              "      <th>0</th>\n",
              "      <td>{'css_borderColor': 'rgba(0, 0, 0, 0)', 'css_b...</td>\n",
              "      <td>{'css_fontFamily': 'Arial, sans-serif', 'css_t...</td>\n",
              "      <td>0.0</td>\n",
              "    </tr>\n",
              "    <tr>\n",
              "      <th>1</th>\n",
              "      <td>{'css_paddingLeft': '11px', 'phantom_text_valu...</td>\n",
              "      <td>{'css_background': 'rgba(0, 0, 0, 0) none repe...</td>\n",
              "      <td>1.0</td>\n",
              "    </tr>\n",
              "    <tr>\n",
              "      <th>2</th>\n",
              "      <td>{'css_backgroundColor': 'rgb(239, 239, 239)', ...</td>\n",
              "      <td>{'css_textTransform': 'none', 'attr_aria-label...</td>\n",
              "      <td>0.0</td>\n",
              "    </tr>\n",
              "  </tbody>\n",
              "</table>\n",
              "</div>"
            ],
            "text/plain": [
              "                                             element  ... prediction\n",
              "0  {'css_borderColor': 'rgba(0, 0, 0, 0)', 'css_b...  ...        0.0\n",
              "1  {'css_paddingLeft': '11px', 'phantom_text_valu...  ...        1.0\n",
              "2  {'css_backgroundColor': 'rgb(239, 239, 239)', ...  ...        0.0\n",
              "\n",
              "[3 rows x 3 columns]"
            ]
          },
          "metadata": {
            "tags": []
          },
          "execution_count": 10
        }
      ]
    },
    {
      "cell_type": "markdown",
      "metadata": {
        "id": "Hb9Wfjeufk-I"
      },
      "source": [
        "Определение важных атрибутов"
      ]
    },
    {
      "cell_type": "code",
      "metadata": {
        "id": "6nyxN1hZfzTB"
      },
      "source": [
        "features=['element', 'signature']\n",
        "target = 'prediction'"
      ],
      "execution_count": null,
      "outputs": []
    },
    {
      "cell_type": "code",
      "metadata": {
        "id": "2V90heSYffSz"
      },
      "source": [
        "attributes=[]\n",
        "for col in features:\n",
        "  for i in range(df.shape[0]):\n",
        "    attributes.extend( df.iloc[:][col][i].keys())\n"
      ],
      "execution_count": null,
      "outputs": []
    },
    {
      "cell_type": "code",
      "metadata": {
        "id": "AwYJmN7dfHtr"
      },
      "source": [
        "empt_arr={}\n",
        "\n",
        "for key in list(attributes):\n",
        "  empt_arr[key]='none'"
      ],
      "execution_count": null,
      "outputs": []
    },
    {
      "cell_type": "code",
      "metadata": {
        "id": "TchTE8D7giA-"
      },
      "source": [
        "df_edit=df.copy()\n"
      ],
      "execution_count": null,
      "outputs": []
    },
    {
      "cell_type": "code",
      "metadata": {
        "colab": {
          "base_uri": "https://localhost:8080/"
        },
        "id": "A9VaoWJ1gmQP",
        "outputId": "6591f2bb-cf2c-4494-81d7-ea527485ae33"
      },
      "source": [
        "for column in features:\n",
        "  for i in range(df.shape[0]): \n",
        "        cont=df_edit.iloc[i][column].copy()\n",
        "        for key in df_edit.iloc[i][column].keys():\n",
        "         ''' \n",
        "         if key not in list(attr_mean.keys()):\n",
        "            del cont[key]\n",
        "         '''\n",
        "        empt_arr2=empt_arr.copy()\n",
        "        empt_arr2.update(cont)\n",
        "        df_edit[column][i]=(empt_arr2)\n",
        "         \n",
        "         "
      ],
      "execution_count": null,
      "outputs": [
        {
          "output_type": "stream",
          "text": [
            "/usr/local/lib/python3.7/dist-packages/ipykernel_launcher.py:11: SettingWithCopyWarning: \n",
            "A value is trying to be set on a copy of a slice from a DataFrame\n",
            "\n",
            "See the caveats in the documentation: https://pandas.pydata.org/pandas-docs/stable/user_guide/indexing.html#returning-a-view-versus-a-copy\n",
            "  # This is added back by InteractiveShellApp.init_path()\n"
          ],
          "name": "stderr"
        }
      ]
    },
    {
      "cell_type": "code",
      "metadata": {
        "colab": {
          "base_uri": "https://localhost:8080/"
        },
        "id": "ogB-KJgzLZj5",
        "outputId": "fc09982c-f150-43ed-b49c-8f48fd474264"
      },
      "source": [
        "len(df_edit['signature'][0])"
      ],
      "execution_count": null,
      "outputs": [
        {
          "output_type": "execute_result",
          "data": {
            "text/plain": [
              "234"
            ]
          },
          "metadata": {
            "tags": []
          },
          "execution_count": 16
        }
      ]
    },
    {
      "cell_type": "code",
      "metadata": {
        "id": "VlpNLaIB-Bla"
      },
      "source": [
        "attr_all=[]\n",
        "for i in features:\n",
        "  for j in df_edit[i]:\n",
        "    #print(j.values())\n",
        "    attr_all.extend(list(j.values()))\n"
      ],
      "execution_count": null,
      "outputs": []
    },
    {
      "cell_type": "code",
      "metadata": {
        "colab": {
          "base_uri": "https://localhost:8080/",
          "height": 35
        },
        "id": "G0dktU2UZTaJ",
        "outputId": "564d029d-9bd3-447d-97d2-a1a73fef40a0"
      },
      "source": [
        "attr_all[0]"
      ],
      "execution_count": null,
      "outputs": [
        {
          "output_type": "execute_result",
          "data": {
            "application/vnd.google.colaboratory.intrinsic+json": {
              "type": "string"
            },
            "text/plain": [
              "'rgba(0, 0, 0, 0)'"
            ]
          },
          "metadata": {
            "tags": []
          },
          "execution_count": 18
        }
      ]
    },
    {
      "cell_type": "code",
      "metadata": {
        "id": "C06Tn5zJ9-y9"
      },
      "source": [
        "from keras.preprocessing.text import Tokenizer\n",
        "\n",
        "tokenizer=Tokenizer(num_words=len(set(attr_all)))\n",
        "\n",
        "tokenizer.fit_on_texts(set(attr_all))"
      ],
      "execution_count": null,
      "outputs": []
    },
    {
      "cell_type": "code",
      "metadata": {
        "id": "LnwJEWpF9ume"
      },
      "source": [
        "df_edir=df_edit.copy()\n",
        "df_edir=df_edir.sample(frac=1)\n",
        "    "
      ],
      "execution_count": null,
      "outputs": []
    },
    {
      "cell_type": "code",
      "metadata": {
        "id": "Grq67B-nGC86"
      },
      "source": [
        "def set_to_values(column):\n",
        "  arr_answ=[]\n",
        "  for el in df_edir[column]:\n",
        "     arr_items=[0]*400\n",
        "     i=0\n",
        "     items=[]\n",
        " \n",
        "     for item in list(tokenizer.texts_to_sequences(el.values())):\n",
        "      \n",
        "        items.extend(item)\n",
        "        \n",
        "     \n",
        "     arr_items[:len(items)]=items\n",
        "     arr_answ.extend(np.array([arr_items]))\n",
        "  return (arr_answ)\n",
        "    \n",
        "      "
      ],
      "execution_count": null,
      "outputs": []
    },
    {
      "cell_type": "code",
      "metadata": {
        "colab": {
          "base_uri": "https://localhost:8080/",
          "height": 142
        },
        "id": "dwPbnw0hiSzZ",
        "outputId": "c68b6ba1-44c3-49ac-a0bf-fef0a96a3148"
      },
      "source": [
        "df_edir.head(3)"
      ],
      "execution_count": null,
      "outputs": [
        {
          "output_type": "execute_result",
          "data": {
            "text/html": [
              "<div>\n",
              "<style scoped>\n",
              "    .dataframe tbody tr th:only-of-type {\n",
              "        vertical-align: middle;\n",
              "    }\n",
              "\n",
              "    .dataframe tbody tr th {\n",
              "        vertical-align: top;\n",
              "    }\n",
              "\n",
              "    .dataframe thead th {\n",
              "        text-align: right;\n",
              "    }\n",
              "</style>\n",
              "<table border=\"1\" class=\"dataframe\">\n",
              "  <thead>\n",
              "    <tr style=\"text-align: right;\">\n",
              "      <th></th>\n",
              "      <th>element</th>\n",
              "      <th>signature</th>\n",
              "      <th>prediction</th>\n",
              "    </tr>\n",
              "  </thead>\n",
              "  <tbody>\n",
              "    <tr>\n",
              "      <th>1821</th>\n",
              "      <td>{'css_borderColor': 'rgb(51, 51, 51)', 'css_bo...</td>\n",
              "      <td>{'css_borderColor': 'rgb(0, 0, 0)', 'css_borde...</td>\n",
              "      <td>0.0</td>\n",
              "    </tr>\n",
              "    <tr>\n",
              "      <th>4265</th>\n",
              "      <td>{'css_borderColor': 'rgb(255, 255, 255)', 'css...</td>\n",
              "      <td>{'css_borderColor': 'rgb(255, 255, 255)', 'css...</td>\n",
              "      <td>1.0</td>\n",
              "    </tr>\n",
              "    <tr>\n",
              "      <th>3638</th>\n",
              "      <td>{'css_borderColor': 'rgb(179, 184, 200)', 'css...</td>\n",
              "      <td>{'css_borderColor': 'rgb(179, 184, 200)', 'css...</td>\n",
              "      <td>1.0</td>\n",
              "    </tr>\n",
              "  </tbody>\n",
              "</table>\n",
              "</div>"
            ],
            "text/plain": [
              "                                                element  ... prediction\n",
              "1821  {'css_borderColor': 'rgb(51, 51, 51)', 'css_bo...  ...        0.0\n",
              "4265  {'css_borderColor': 'rgb(255, 255, 255)', 'css...  ...        1.0\n",
              "3638  {'css_borderColor': 'rgb(179, 184, 200)', 'css...  ...        1.0\n",
              "\n",
              "[3 rows x 3 columns]"
            ]
          },
          "metadata": {
            "tags": []
          },
          "execution_count": 22
        }
      ]
    },
    {
      "cell_type": "code",
      "metadata": {
        "id": "_-RzRR4N9vGW"
      },
      "source": [
        "arr1=(set_to_values('element'))\n"
      ],
      "execution_count": null,
      "outputs": []
    },
    {
      "cell_type": "code",
      "metadata": {
        "colab": {
          "base_uri": "https://localhost:8080/"
        },
        "id": "RM6IpTMwHGso",
        "outputId": "3e758365-5407-47e2-9738-ad3047043607"
      },
      "source": [
        "len(arr1)"
      ],
      "execution_count": null,
      "outputs": [
        {
          "output_type": "execute_result",
          "data": {
            "text/plain": [
              "16550"
            ]
          },
          "metadata": {
            "tags": []
          },
          "execution_count": 24
        }
      ]
    },
    {
      "cell_type": "code",
      "metadata": {
        "id": "da2vEROlUjdX"
      },
      "source": [
        "arr2=(set_to_values('signature'))\n"
      ],
      "execution_count": null,
      "outputs": []
    },
    {
      "cell_type": "code",
      "metadata": {
        "colab": {
          "base_uri": "https://localhost:8080/"
        },
        "id": "BJda552bWbI0",
        "outputId": "82f0d6c5-6be8-4ace-dbb5-676e474f980a"
      },
      "source": [
        "arr2[-5]"
      ],
      "execution_count": null,
      "outputs": [
        {
          "output_type": "execute_result",
          "data": {
            "text/plain": [
              "array([    9,     1,     1,     1,    11,    19,     9,     1,     1,\n",
              "           1,    19,    11,    19,     9,     1,     1,     1,    11,\n",
              "          11,    19,     9,     1,     1,     1,   257,     9,     1,\n",
              "           1,     1,  1618,   257,    79,   132,    31,    62,    31,\n",
              "          20,    16,    17,   201,    19,    11,    19,     9,     1,\n",
              "           1,     1,    49,    19,   817,    19,    31,    62,    31,\n",
              "          20,    16,    17,    81,    81,     2,    11,    19,     9,\n",
              "           1,     1,     1,   132,   535,    44,     1,     1,     1,\n",
              "           1,    11,    19,    19,    11,    19,   535,    81,    11,\n",
              "           9,     1,     1,     1,    19,    11,    44,     1,     1,\n",
              "           1,     1,    19,    47,    43,     1,     1,    49,    38,\n",
              "          22,    42,    22,     1,     2,     7,     1,     1,     1,\n",
              "           1,     4,     2, 12871,    40,   149,    46,   286,   149,\n",
              "          14,   149,    46,    32,   286,    14,   149,    46,    32,\n",
              "         286,     3,   817,   132,    11, 14962,   545,     3,    19,\n",
              "          19,    19,    19,    19,    19,    19,    19,    19,    19,\n",
              "          19,    19,    19,    19,    19,    19,    19,    19,    19,\n",
              "          19,    19,    19,    19,    19,    19,    19,    19,    19,\n",
              "          19,    19,    19,    19,    19,    19,    19,    19,    19,\n",
              "          19,    19,    19,    19,    19,    19,    19,    19,    19,\n",
              "          19,    19,    19,    19,    19,    19,    19,    19,    19,\n",
              "          19,    19,    19,    19,    19,    19,    19,    19,    19,\n",
              "          19,    19,    19,    19,    19,    19,    19,    19,    19,\n",
              "          19,    19,    19,    19,    19,    19,    19,    19,    19,\n",
              "          19,    19,    19,    19,    19,    19,    19,    19,    19,\n",
              "          19,    19,    19,    19,    19,    19,    19,    19,    19,\n",
              "          19,    19,    19,    19,    19,    19,    19,    19,    19,\n",
              "          19,    19,    19,    19,    19,    19,    19,    19,    19,\n",
              "          19,    19,    19,    19,    19,    19,    19,    19,    19,\n",
              "          19,    19,    19,    19,    19,    19,    19,    19,    19,\n",
              "          19,    19,    19,    19,    19,    19,    19,    19,    19,\n",
              "          19,    19,    19,    19,    19,    19,    19,    19,    19,\n",
              "          19,    19,    19,    19,    19,    19,    19,    19,    19,\n",
              "          19,    19,    19,    19,    19,    19,    19,    19,    19,\n",
              "          19,    19,    19,    19,    19,    19,    19,    19,    19,\n",
              "          19,    19,    19,    19,    19,    19,    19,    19,    19,\n",
              "          19,     0,     0,     0,     0,     0,     0,     0,     0,\n",
              "           0,     0,     0,     0,     0,     0,     0,     0,     0,\n",
              "           0,     0,     0,     0,     0,     0,     0,     0,     0,\n",
              "           0,     0,     0,     0,     0,     0,     0,     0,     0,\n",
              "           0,     0,     0,     0,     0,     0,     0,     0,     0,\n",
              "           0,     0,     0,     0,     0,     0,     0,     0,     0,\n",
              "           0,     0,     0,     0,     0,     0,     0,     0,     0,\n",
              "           0,     0,     0,     0,     0,     0,     0,     0,     0,\n",
              "           0,     0,     0,     0])"
            ]
          },
          "metadata": {
            "tags": []
          },
          "execution_count": 26
        }
      ]
    },
    {
      "cell_type": "markdown",
      "metadata": {
        "id": "Fmcv5LzCinSM"
      },
      "source": [
        "Нейроння сеть"
      ]
    },
    {
      "cell_type": "code",
      "metadata": {
        "colab": {
          "base_uri": "https://localhost:8080/"
        },
        "id": "EYMmXG-LJz9X",
        "outputId": "9cefe270-ba4e-4e23-85bb-c34906d42cbc"
      },
      "source": [
        "!pip install wandb"
      ],
      "execution_count": null,
      "outputs": [
        {
          "output_type": "stream",
          "text": [
            "Collecting wandb\n",
            "\u001b[?25l  Downloading https://files.pythonhosted.org/packages/d5/5d/20ab24504de2669c9a76a50c9bdaeb44a440b0e5e4b92be881ed323857b1/wandb-0.10.26-py2.py3-none-any.whl (2.1MB)\n",
            "\u001b[K     |████████████████████████████████| 2.1MB 10.0MB/s \n",
            "\u001b[?25hRequirement already satisfied: promise<3,>=2.0 in /usr/local/lib/python3.7/dist-packages (from wandb) (2.3)\n",
            "Requirement already satisfied: Click>=7.0 in /usr/local/lib/python3.7/dist-packages (from wandb) (7.1.2)\n",
            "Collecting shortuuid>=0.5.0\n",
            "  Downloading https://files.pythonhosted.org/packages/25/a6/2ecc1daa6a304e7f1b216f0896b26156b78e7c38e1211e9b798b4716c53d/shortuuid-1.0.1-py3-none-any.whl\n",
            "Collecting pathtools\n",
            "  Downloading https://files.pythonhosted.org/packages/e7/7f/470d6fcdf23f9f3518f6b0b76be9df16dcc8630ad409947f8be2eb0ed13a/pathtools-0.1.2.tar.gz\n",
            "Requirement already satisfied: PyYAML in /usr/local/lib/python3.7/dist-packages (from wandb) (3.13)\n",
            "Collecting GitPython>=1.0.0\n",
            "\u001b[?25l  Downloading https://files.pythonhosted.org/packages/a6/99/98019716955ba243657daedd1de8f3a88ca1f5b75057c38e959db22fb87b/GitPython-3.1.14-py3-none-any.whl (159kB)\n",
            "\u001b[K     |████████████████████████████████| 163kB 37.7MB/s \n",
            "\u001b[?25hCollecting configparser>=3.8.1\n",
            "  Downloading https://files.pythonhosted.org/packages/fd/01/ff260a18caaf4457eb028c96eeb405c4a230ca06c8ec9c1379f813caa52e/configparser-5.0.2-py3-none-any.whl\n",
            "Collecting subprocess32>=3.5.3\n",
            "\u001b[?25l  Downloading https://files.pythonhosted.org/packages/32/c8/564be4d12629b912ea431f1a50eb8b3b9d00f1a0b1ceff17f266be190007/subprocess32-3.5.4.tar.gz (97kB)\n",
            "\u001b[K     |████████████████████████████████| 102kB 9.7MB/s \n",
            "\u001b[?25hCollecting docker-pycreds>=0.4.0\n",
            "  Downloading https://files.pythonhosted.org/packages/f5/e8/f6bd1eee09314e7e6dee49cbe2c5e22314ccdb38db16c9fc72d2fa80d054/docker_pycreds-0.4.0-py2.py3-none-any.whl\n",
            "Requirement already satisfied: python-dateutil>=2.6.1 in /usr/local/lib/python3.7/dist-packages (from wandb) (2.8.1)\n",
            "Requirement already satisfied: requests<3,>=2.0.0 in /usr/local/lib/python3.7/dist-packages (from wandb) (2.23.0)\n",
            "Requirement already satisfied: protobuf>=3.12.0 in /usr/local/lib/python3.7/dist-packages (from wandb) (3.12.4)\n",
            "Collecting sentry-sdk>=0.4.0\n",
            "\u001b[?25l  Downloading https://files.pythonhosted.org/packages/f3/92/5a33be64990ba815364a8f2dd9e6f51de60d23dfddafb4f1fc5577d4dc64/sentry_sdk-1.0.0-py2.py3-none-any.whl (131kB)\n",
            "\u001b[K     |████████████████████████████████| 133kB 42.1MB/s \n",
            "\u001b[?25hRequirement already satisfied: six>=1.13.0 in /usr/local/lib/python3.7/dist-packages (from wandb) (1.15.0)\n",
            "Requirement already satisfied: psutil>=5.0.0 in /usr/local/lib/python3.7/dist-packages (from wandb) (5.4.8)\n",
            "Collecting gitdb<5,>=4.0.1\n",
            "\u001b[?25l  Downloading https://files.pythonhosted.org/packages/ea/e8/f414d1a4f0bbc668ed441f74f44c116d9816833a48bf81d22b697090dba8/gitdb-4.0.7-py3-none-any.whl (63kB)\n",
            "\u001b[K     |████████████████████████████████| 71kB 8.6MB/s \n",
            "\u001b[?25hRequirement already satisfied: chardet<4,>=3.0.2 in /usr/local/lib/python3.7/dist-packages (from requests<3,>=2.0.0->wandb) (3.0.4)\n",
            "Requirement already satisfied: urllib3!=1.25.0,!=1.25.1,<1.26,>=1.21.1 in /usr/local/lib/python3.7/dist-packages (from requests<3,>=2.0.0->wandb) (1.24.3)\n",
            "Requirement already satisfied: certifi>=2017.4.17 in /usr/local/lib/python3.7/dist-packages (from requests<3,>=2.0.0->wandb) (2020.12.5)\n",
            "Requirement already satisfied: idna<3,>=2.5 in /usr/local/lib/python3.7/dist-packages (from requests<3,>=2.0.0->wandb) (2.10)\n",
            "Requirement already satisfied: setuptools in /usr/local/lib/python3.7/dist-packages (from protobuf>=3.12.0->wandb) (54.2.0)\n",
            "Collecting smmap<5,>=3.0.1\n",
            "  Downloading https://files.pythonhosted.org/packages/68/ee/d540eb5e5996eb81c26ceffac6ee49041d473bc5125f2aa995cf51ec1cf1/smmap-4.0.0-py2.py3-none-any.whl\n",
            "Building wheels for collected packages: pathtools, subprocess32\n",
            "  Building wheel for pathtools (setup.py) ... \u001b[?25l\u001b[?25hdone\n",
            "  Created wheel for pathtools: filename=pathtools-0.1.2-cp37-none-any.whl size=8786 sha256=18e92ec5131ef6d904de0f349d2d2863592d9ff48bb244a0524636debba2f9e9\n",
            "  Stored in directory: /root/.cache/pip/wheels/0b/04/79/c3b0c3a0266a3cb4376da31e5bfe8bba0c489246968a68e843\n",
            "  Building wheel for subprocess32 (setup.py) ... \u001b[?25l\u001b[?25hdone\n",
            "  Created wheel for subprocess32: filename=subprocess32-3.5.4-cp37-none-any.whl size=6489 sha256=a416c39a4fad3de6dd86eccbb6abdd519af00e59edf4ab10d2ade7ea1255caa7\n",
            "  Stored in directory: /root/.cache/pip/wheels/68/39/1a/5e402bdfdf004af1786c8b853fd92f8c4a04f22aad179654d1\n",
            "Successfully built pathtools subprocess32\n",
            "Installing collected packages: shortuuid, pathtools, smmap, gitdb, GitPython, configparser, subprocess32, docker-pycreds, sentry-sdk, wandb\n",
            "Successfully installed GitPython-3.1.14 configparser-5.0.2 docker-pycreds-0.4.0 gitdb-4.0.7 pathtools-0.1.2 sentry-sdk-1.0.0 shortuuid-1.0.1 smmap-4.0.0 subprocess32-3.5.4 wandb-0.10.26\n"
          ],
          "name": "stdout"
        }
      ]
    },
    {
      "cell_type": "code",
      "metadata": {
        "id": "SmDsRcekjEKU"
      },
      "source": [
        "from keras.datasets import imdb\n",
        "from keras.models import Sequential,Model\n",
        "from keras.layers import Dense,Concatenate,Subtract,SpatialDropout1D, LSTM\n",
        "from keras.layers import Flatten, Input \n",
        "from keras.layers.convolutional import Conv1D,Conv2D\n",
        "from keras.layers.convolutional import MaxPooling1D\n",
        "from keras.layers.embeddings import Embedding\n",
        "from keras.preprocessing import sequence\n",
        "import copy\n",
        "import wandb\n",
        "from wandb.keras import WandbCallback\n"
      ],
      "execution_count": null,
      "outputs": []
    },
    {
      "cell_type": "code",
      "metadata": {
        "id": "mDaThrVCiQ72"
      },
      "source": [
        "import tensorflow as tf\n",
        "import numpy as np\n",
        "from tensorflow.keras.preprocessing.text import Tokenizer\n",
        "from tensorflow.keras.preprocessing.sequence import pad_sequences\n",
        "from nltk.corpus import stopwords"
      ],
      "execution_count": null,
      "outputs": []
    },
    {
      "cell_type": "code",
      "metadata": {
        "id": "WJs0CXEbi29h"
      },
      "source": [
        "input_shape=400\n",
        "MAX_NB_WORDS=len(set(attr_all))\n",
        "EMBEDDING_DIM=32"
      ],
      "execution_count": null,
      "outputs": []
    },
    {
      "cell_type": "code",
      "metadata": {
        "colab": {
          "base_uri": "https://localhost:8080/"
        },
        "id": "kricu3DfduOV",
        "outputId": "7a7aea99-810e-4397-c816-d9d87d346016"
      },
      "source": [
        "df['element'].shape"
      ],
      "execution_count": null,
      "outputs": [
        {
          "output_type": "execute_result",
          "data": {
            "text/plain": [
              "(16550,)"
            ]
          },
          "metadata": {
            "tags": []
          },
          "execution_count": 31
        }
      ]
    },
    {
      "cell_type": "code",
      "metadata": {
        "colab": {
          "base_uri": "https://localhost:8080/"
        },
        "id": "fAJzLOvedxfv",
        "outputId": "2b3ee3dd-1eca-40a8-c326-f9a5a4bdcd7c"
      },
      "source": [
        "np.array(arr1).shape"
      ],
      "execution_count": null,
      "outputs": [
        {
          "output_type": "stream",
          "text": [
            "/usr/local/lib/python3.7/dist-packages/ipykernel_launcher.py:1: VisibleDeprecationWarning: Creating an ndarray from ragged nested sequences (which is a list-or-tuple of lists-or-tuples-or ndarrays with different lengths or shapes) is deprecated. If you meant to do this, you must specify 'dtype=object' when creating the ndarray\n",
            "  \"\"\"Entry point for launching an IPython kernel.\n"
          ],
          "name": "stderr"
        },
        {
          "output_type": "execute_result",
          "data": {
            "text/plain": [
              "(16550,)"
            ]
          },
          "metadata": {
            "tags": []
          },
          "execution_count": 32
        }
      ]
    },
    {
      "cell_type": "code",
      "metadata": {
        "colab": {
          "base_uri": "https://localhost:8080/"
        },
        "id": "vF8VScnsirLJ",
        "outputId": "1019ee38-a40d-4c6d-fdaf-a799e78d2534"
      },
      "source": [
        "left_input = Input(input_shape, name='input_layer1')\n",
        "right_input = Input(input_shape, name='input_layer2')\n",
        "\n",
        "\n",
        "model = Sequential()\n",
        "model.add(Embedding(MAX_NB_WORDS, EMBEDDING_DIM, input_length=input_shape))\n",
        "model.add(SpatialDropout1D(0.2))\n",
        "model.add(LSTM(34, dropout=0.2, recurrent_dropout=0.2))\n",
        "model.add(Dense(2, activation='sigmoid'))\n",
        "\n",
        "\n",
        "\n",
        "dense1=model(left_input)\n",
        "dense2=model(right_input)\n",
        "merge_layer = Subtract()([dense1, dense2]) \n",
        "dense_layer = Dense(1, activation=\"relu\", name='output_layer')(merge_layer) \n",
        "\n",
        "model = Model(inputs=[left_input, right_input], outputs=dense_layer)"
      ],
      "execution_count": null,
      "outputs": [
        {
          "output_type": "stream",
          "text": [
            "WARNING:tensorflow:Layer lstm will not use cuDNN kernel since it doesn't meet the cuDNN kernel criteria. It will use generic GPU kernel as fallback when running on GPU\n"
          ],
          "name": "stdout"
        }
      ]
    },
    {
      "cell_type": "code",
      "metadata": {
        "id": "ubHbWon1boI3"
      },
      "source": [
        "left_input = Input(input_shape, name='input_layer1')\n",
        "right_input = Input(input_shape,name='input_layer2' )\n",
        "\n",
        "\n",
        "model = tf.keras.Sequential([\n",
        "    \n",
        "    tf.keras.layers.Embedding(\n",
        "        input_dim=len(set(attr_all)),\n",
        "        output_dim=8,\n",
        "        # Use masking to handle the variable sequence lengths\n",
        "        mask_zero=True),\n",
        "    tf.keras.layers.Bidirectional(tf.keras.layers.LSTM(64)),\n",
        "    tf.keras.layers.Dense(64, activation='relu'),\n",
        "    tf.keras.layers.Dense(1)\n",
        "])\n",
        "\n",
        "\n",
        "\n",
        "dense1=model(left_input)\n",
        "dense2=model(right_input)\n",
        "merge_layer = Subtract()([dense1, dense2]) \n",
        "dense_layer = Dense(1, activation=\"sigmoid\", name='output_layer')(merge_layer) \n",
        "\n",
        "model = Model(inputs=[left_input, right_input], outputs=dense_layer)"
      ],
      "execution_count": null,
      "outputs": []
    },
    {
      "cell_type": "code",
      "metadata": {
        "id": "S79KzDiiKMj3"
      },
      "source": [
        "model.compile(loss='binary_crossentropy', optimizer='adamax', metrics=['accuracy'])"
      ],
      "execution_count": null,
      "outputs": []
    },
    {
      "cell_type": "code",
      "metadata": {
        "id": "8zn5yJDlaB5N"
      },
      "source": [
        "arr1=tf.keras.preprocessing.sequence.pad_sequences(arr1, maxlen=400)\n",
        "arr2=tf.keras.preprocessing.sequence.pad_sequences(arr2, maxlen=400)"
      ],
      "execution_count": null,
      "outputs": []
    },
    {
      "cell_type": "code",
      "metadata": {
        "colab": {
          "base_uri": "https://localhost:8080/",
          "height": 614
        },
        "id": "wULmVb68T67N",
        "outputId": "ee4e5666-5c55-483d-a7e8-12aa9fa85d22"
      },
      "source": [
        "wandb.init()"
      ],
      "execution_count": null,
      "outputs": [
        {
          "output_type": "display_data",
          "data": {
            "application/javascript": [
              "\n",
              "        window._wandbApiKey = new Promise((resolve, reject) => {\n",
              "            function loadScript(url) {\n",
              "            return new Promise(function(resolve, reject) {\n",
              "                let newScript = document.createElement(\"script\");\n",
              "                newScript.onerror = reject;\n",
              "                newScript.onload = resolve;\n",
              "                document.body.appendChild(newScript);\n",
              "                newScript.src = url;\n",
              "            });\n",
              "            }\n",
              "            loadScript(\"https://cdn.jsdelivr.net/npm/postmate/build/postmate.min.js\").then(() => {\n",
              "            const iframe = document.createElement('iframe')\n",
              "            iframe.style.cssText = \"width:0;height:0;border:none\"\n",
              "            document.body.appendChild(iframe)\n",
              "            const handshake = new Postmate({\n",
              "                container: iframe,\n",
              "                url: 'https://wandb.ai/authorize'\n",
              "            });\n",
              "            const timeout = setTimeout(() => reject(\"Couldn't auto authenticate\"), 5000)\n",
              "            handshake.then(function(child) {\n",
              "                child.on('authorize', data => {\n",
              "                    clearTimeout(timeout)\n",
              "                    resolve(data)\n",
              "                });\n",
              "            });\n",
              "            })\n",
              "        });\n",
              "    "
            ],
            "text/plain": [
              "<IPython.core.display.Javascript object>"
            ]
          },
          "metadata": {
            "tags": []
          }
        },
        {
          "output_type": "stream",
          "text": [
            "\u001b[34m\u001b[1mwandb\u001b[0m: Appending key for api.wandb.ai to your netrc file: /root/.netrc\n"
          ],
          "name": "stderr"
        },
        {
          "output_type": "display_data",
          "data": {
            "text/html": [
              "\n",
              "                Tracking run with wandb version 0.10.26<br/>\n",
              "                Syncing run <strong style=\"color:#cdcd00\">wandering-breeze-589</strong> to <a href=\"https://wandb.ai\" target=\"_blank\">Weights & Biases</a> <a href=\"https://docs.wandb.com/integrations/jupyter.html\" target=\"_blank\">(Documentation)</a>.<br/>\n",
              "                Project page: <a href=\"https://wandb.ai/ruzya2020/uncategorized\" target=\"_blank\">https://wandb.ai/ruzya2020/uncategorized</a><br/>\n",
              "                Run page: <a href=\"https://wandb.ai/ruzya2020/uncategorized/runs/1r1sdf4x\" target=\"_blank\">https://wandb.ai/ruzya2020/uncategorized/runs/1r1sdf4x</a><br/>\n",
              "                Run data is saved locally in <code>/content/wandb/run-20210416_073405-1r1sdf4x</code><br/><br/>\n",
              "            "
            ],
            "text/plain": [
              "<IPython.core.display.HTML object>"
            ]
          },
          "metadata": {
            "tags": []
          }
        },
        {
          "output_type": "execute_result",
          "data": {
            "text/plain": [
              "<wandb.sdk.wandb_run.Run at 0x7f4699a8b410>"
            ],
            "text/html": [
              "<h1>Run(1r1sdf4x)</h1><iframe src=\"https://wandb.ai/ruzya2020/uncategorized/runs/1r1sdf4x\" style=\"border:none;width:100%;height:400px\"></iframe>"
            ]
          },
          "metadata": {
            "tags": []
          },
          "execution_count": 35
        }
      ]
    },
    {
      "cell_type": "code",
      "metadata": {
        "colab": {
          "base_uri": "https://localhost:8080/"
        },
        "id": "B8AyIv6lXKO3",
        "outputId": "2d86d517-cc49-4199-f5c5-ac58dbca7caa"
      },
      "source": [
        "\n",
        "size=10000\n",
        "model.fit([tf.convert_to_tensor(arr1[:size]),tf.convert_to_tensor(arr2[:size])],np.array(df_edir['prediction'][:size]), batch_size=30, epochs=20, callbacks=[WandbCallback()], validation_data=([arr1[size:],arr2[size:]],np.array(df_edir['prediction'][size:])))"
      ],
      "execution_count": null,
      "outputs": [
        {
          "output_type": "stream",
          "text": [
            "Epoch 1/20\n",
            "334/334 [==============================] - 40s 84ms/step - loss: 0.4426 - accuracy: 0.8447 - val_loss: 0.1148 - val_accuracy: 0.9269\n",
            "Epoch 2/20\n",
            "334/334 [==============================] - 24s 72ms/step - loss: 0.1151 - accuracy: 0.9271 - val_loss: 0.0976 - val_accuracy: 0.9321\n",
            "Epoch 3/20\n",
            "334/334 [==============================] - 24s 72ms/step - loss: 0.0916 - accuracy: 0.9324 - val_loss: 0.0924 - val_accuracy: 0.9345\n",
            "Epoch 4/20\n",
            "334/334 [==============================] - 24s 72ms/step - loss: 0.0849 - accuracy: 0.9377 - val_loss: 0.1014 - val_accuracy: 0.9374\n",
            "Epoch 5/20\n",
            "334/334 [==============================] - 24s 73ms/step - loss: 0.0822 - accuracy: 0.9349 - val_loss: 0.0788 - val_accuracy: 0.9718\n",
            "Epoch 6/20\n",
            "334/334 [==============================] - 24s 73ms/step - loss: 0.0702 - accuracy: 0.9738 - val_loss: 0.0736 - val_accuracy: 0.9742\n",
            "Epoch 7/20\n",
            "334/334 [==============================] - 24s 72ms/step - loss: 0.0616 - accuracy: 0.9804 - val_loss: 0.0775 - val_accuracy: 0.9777\n",
            "Epoch 8/20\n",
            "334/334 [==============================] - 24s 72ms/step - loss: 0.0626 - accuracy: 0.9805 - val_loss: 0.0708 - val_accuracy: 0.9788\n",
            "Epoch 9/20\n",
            "334/334 [==============================] - 24s 73ms/step - loss: 0.0537 - accuracy: 0.9846 - val_loss: 0.0712 - val_accuracy: 0.9800\n",
            "Epoch 10/20\n",
            "334/334 [==============================] - 24s 72ms/step - loss: 0.0518 - accuracy: 0.9863 - val_loss: 0.0684 - val_accuracy: 0.9814\n",
            "Epoch 11/20\n",
            "334/334 [==============================] - 24s 73ms/step - loss: 0.0460 - accuracy: 0.9872 - val_loss: 0.0743 - val_accuracy: 0.9797\n",
            "Epoch 12/20\n",
            "334/334 [==============================] - 24s 73ms/step - loss: 0.0447 - accuracy: 0.9890 - val_loss: 0.0667 - val_accuracy: 0.9820\n",
            "Epoch 13/20\n",
            "334/334 [==============================] - 24s 73ms/step - loss: 0.0395 - accuracy: 0.9918 - val_loss: 0.0658 - val_accuracy: 0.9831\n",
            "Epoch 14/20\n",
            "334/334 [==============================] - 24s 72ms/step - loss: 0.0399 - accuracy: 0.9880 - val_loss: 0.0698 - val_accuracy: 0.9820\n",
            "Epoch 15/20\n",
            "334/334 [==============================] - 24s 71ms/step - loss: 0.0349 - accuracy: 0.9918 - val_loss: 0.0736 - val_accuracy: 0.9823\n",
            "Epoch 16/20\n",
            "334/334 [==============================] - 24s 71ms/step - loss: 0.0341 - accuracy: 0.9931 - val_loss: 0.0842 - val_accuracy: 0.9827\n",
            "Epoch 17/20\n",
            "334/334 [==============================] - 24s 71ms/step - loss: 0.0333 - accuracy: 0.9916 - val_loss: 0.0847 - val_accuracy: 0.9837\n",
            "Epoch 18/20\n",
            "334/334 [==============================] - 24s 71ms/step - loss: 0.0300 - accuracy: 0.9934 - val_loss: 0.0722 - val_accuracy: 0.9841\n",
            "Epoch 19/20\n",
            "334/334 [==============================] - 24s 71ms/step - loss: 0.0257 - accuracy: 0.9945 - val_loss: 0.0942 - val_accuracy: 0.9827\n",
            "Epoch 20/20\n",
            "334/334 [==============================] - 23s 70ms/step - loss: 0.0278 - accuracy: 0.9941 - val_loss: 0.0862 - val_accuracy: 0.9838\n"
          ],
          "name": "stdout"
        },
        {
          "output_type": "execute_result",
          "data": {
            "text/plain": [
              "<tensorflow.python.keras.callbacks.History at 0x7fc322905790>"
            ]
          },
          "metadata": {
            "tags": []
          },
          "execution_count": 46
        }
      ]
    },
    {
      "cell_type": "code",
      "metadata": {
        "colab": {
          "base_uri": "https://localhost:8080/"
        },
        "id": "3iCgivv5bzVO",
        "outputId": "1c5f0326-0c30-4360-f24c-cec2fb1258e5"
      },
      "source": [
        "model.evaluate((tf.convert_to_tensor(arr1[:]),tf.convert_to_tensor(arr2[:])),np.array(df_edir['prediction'][:]))"
      ],
      "execution_count": null,
      "outputs": [
        {
          "output_type": "stream",
          "text": [
            "518/518 [==============================] - 13s 24ms/step - loss: 0.0456 - accuracy: 0.9901\n"
          ],
          "name": "stdout"
        },
        {
          "output_type": "execute_result",
          "data": {
            "text/plain": [
              "[0.04557211324572563, 0.9900906085968018]"
            ]
          },
          "metadata": {
            "tags": []
          },
          "execution_count": 38
        }
      ]
    },
    {
      "cell_type": "code",
      "metadata": {
        "colab": {
          "base_uri": "https://localhost:8080/",
          "height": 35
        },
        "id": "BbtzhNqlaqUk",
        "outputId": "88f48f2a-c5da-4e6c-8f66-bc816a9f07c3"
      },
      "source": [
        "data_dir2 = os.path.join('/content/gdrive/My Drive/Datasets/output_LSTM')\n",
        "data_dir2"
      ],
      "execution_count": null,
      "outputs": [
        {
          "output_type": "execute_result",
          "data": {
            "application/vnd.google.colaboratory.intrinsic+json": {
              "type": "string"
            },
            "text/plain": [
              "'/content/gdrive/My Drive/Datasets/output_LSTM'"
            ]
          },
          "metadata": {
            "tags": []
          },
          "execution_count": 43
        }
      ]
    },
    {
      "cell_type": "code",
      "metadata": {
        "colab": {
          "base_uri": "https://localhost:8080/"
        },
        "id": "GS58LAwY66Zh",
        "outputId": "4b7b69ed-76af-414b-dc77-b06690a09f74"
      },
      "source": [
        "model.save(data_dir2)"
      ],
      "execution_count": null,
      "outputs": [
        {
          "output_type": "stream",
          "text": [
            "WARNING:absl:Found untraced functions such as lstm_cell_2_layer_call_and_return_conditional_losses, lstm_cell_2_layer_call_fn, lstm_cell_3_layer_call_and_return_conditional_losses, lstm_cell_3_layer_call_fn, lstm_cell_2_layer_call_fn while saving (showing 5 of 10). These functions will not be directly callable after loading.\n",
            "WARNING:absl:Found untraced functions such as lstm_cell_2_layer_call_and_return_conditional_losses, lstm_cell_2_layer_call_fn, lstm_cell_3_layer_call_and_return_conditional_losses, lstm_cell_3_layer_call_fn, lstm_cell_2_layer_call_fn while saving (showing 5 of 10). These functions will not be directly callable after loading.\n"
          ],
          "name": "stderr"
        },
        {
          "output_type": "stream",
          "text": [
            "INFO:tensorflow:Assets written to: /content/gdrive/My Drive/Datasets/output_LSTM/assets\n"
          ],
          "name": "stdout"
        },
        {
          "output_type": "stream",
          "text": [
            "INFO:tensorflow:Assets written to: /content/gdrive/My Drive/Datasets/output_LSTM/assets\n"
          ],
          "name": "stderr"
        }
      ]
    },
    {
      "cell_type": "markdown",
      "metadata": {
        "id": "HtxV9N_iw8k6"
      },
      "source": [
        "CNN"
      ]
    },
    {
      "cell_type": "code",
      "metadata": {
        "id": "WLQc7_9Hw9pK"
      },
      "source": [
        "left_input = Input(input_shape, name='input_layer1')\n",
        "right_input = Input(input_shape, name='input_layer2')\n",
        "\n",
        "\n",
        "model = Sequential()\n",
        "model.add(Embedding(len(set(attr_all)), 32, input_length=400))\n",
        "model.add(Conv1D(32, 3, padding='same', activation='relu'))\n",
        "model.add(MaxPooling1D())\n",
        "model.add(Flatten())\n",
        "model.add(Dense(250, activation='relu'))\n",
        "model.add(Dense(1, activation='sigmoid'))\n",
        "\n",
        "\n",
        "dense1=model(left_input)\n",
        "dense2=model(right_input)\n",
        "merge_layer = Subtract()([dense1, dense2]) \n",
        "dense_layer = Dense(1, activation=\"sigmoid\", name='output_layer')(merge_layer) \n",
        "\n",
        "model = Model(inputs=[left_input, right_input], outputs=dense_layer)"
      ],
      "execution_count": null,
      "outputs": []
    },
    {
      "cell_type": "code",
      "metadata": {
        "colab": {
          "base_uri": "https://localhost:8080/"
        },
        "id": "PN_JIAoIsz6c",
        "outputId": "ad738591-c23d-4675-df31-59470793eded"
      },
      "source": [
        "model.summary()"
      ],
      "execution_count": null,
      "outputs": [
        {
          "output_type": "stream",
          "text": [
            "Model: \"model_4\"\n",
            "__________________________________________________________________________________________________\n",
            "Layer (type)                    Output Shape         Param #     Connected to                     \n",
            "==================================================================================================\n",
            "input_layer1 (InputLayer)       [(None, 400)]        0                                            \n",
            "__________________________________________________________________________________________________\n",
            "input_layer2 (InputLayer)       [(None, 400)]        0                                            \n",
            "__________________________________________________________________________________________________\n",
            "sequential_4 (Sequential)       (None, 1)            2115349     input_layer1[0][0]               \n",
            "                                                                 input_layer2[0][0]               \n",
            "__________________________________________________________________________________________________\n",
            "subtract_4 (Subtract)           (None, 1)            0           sequential_4[0][0]               \n",
            "                                                                 sequential_4[1][0]               \n",
            "__________________________________________________________________________________________________\n",
            "output_layer (Dense)            (None, 1)            2           subtract_4[0][0]                 \n",
            "==================================================================================================\n",
            "Total params: 2,115,351\n",
            "Trainable params: 2,115,351\n",
            "Non-trainable params: 0\n",
            "__________________________________________________________________________________________________\n"
          ],
          "name": "stdout"
        }
      ]
    },
    {
      "cell_type": "code",
      "metadata": {
        "id": "HH-0B-ws5hMs"
      },
      "source": [
        "model.compile(loss='binary_crossentropy', optimizer='adam', metrics=['accuracy'])"
      ],
      "execution_count": null,
      "outputs": []
    },
    {
      "cell_type": "code",
      "metadata": {
        "id": "wpDfwezp_3I6"
      },
      "source": [
        "arr1=tf.keras.preprocessing.sequence.pad_sequences(arr1, maxlen=400)\n",
        "arr2=tf.keras.preprocessing.sequence.pad_sequences(arr2, maxlen=400)"
      ],
      "execution_count": null,
      "outputs": []
    },
    {
      "cell_type": "code",
      "metadata": {
        "colab": {
          "base_uri": "https://localhost:8080/",
          "height": 1000,
          "referenced_widgets": [
            "cd993322d7544899bd216870b26a69ac",
            "24a64be9db6d43cca2729378394f5f55",
            "818f402bb9f84bc6917e0d65e15a9531",
            "e5566d3ede604edf9a26192171e53c17",
            "cee2617a9a8d454e9ee79585af489c72",
            "b8315f923fff47fdbc93272a530affca",
            "7d53aa66c9ab40b0a8668ae03b3bb3d2",
            "b4f02d8fd5d248db8822a3e7e63478dd"
          ]
        },
        "id": "oDiOx1e2g-WD",
        "outputId": "ffa0c066-5956-4468-9d32-4128e8da33db"
      },
      "source": [
        "wandb.init()"
      ],
      "execution_count": null,
      "outputs": [
        {
          "output_type": "display_data",
          "data": {
            "text/html": [
              "Finishing last run (ID:jnkncj6k) before initializing another..."
            ],
            "text/plain": [
              "<IPython.core.display.HTML object>"
            ]
          },
          "metadata": {
            "tags": []
          }
        },
        {
          "output_type": "display_data",
          "data": {
            "text/html": [
              "<br/>Waiting for W&B process to finish, PID 573<br/>Program ended successfully."
            ],
            "text/plain": [
              "<IPython.core.display.HTML object>"
            ]
          },
          "metadata": {
            "tags": []
          }
        },
        {
          "output_type": "display_data",
          "data": {
            "application/vnd.jupyter.widget-view+json": {
              "model_id": "cd993322d7544899bd216870b26a69ac",
              "version_minor": 0,
              "version_major": 2
            },
            "text/plain": [
              "VBox(children=(Label(value=' 24.26MB of 24.26MB uploaded (0.00MB deduped)\\r'), FloatProgress(value=1.0, max=1.…"
            ]
          },
          "metadata": {
            "tags": []
          }
        },
        {
          "output_type": "display_data",
          "data": {
            "text/html": [
              "Find user logs for this run at: <code>/content/wandb/run-20210416_073722-jnkncj6k/logs/debug.log</code>"
            ],
            "text/plain": [
              "<IPython.core.display.HTML object>"
            ]
          },
          "metadata": {
            "tags": []
          }
        },
        {
          "output_type": "display_data",
          "data": {
            "text/html": [
              "Find internal logs for this run at: <code>/content/wandb/run-20210416_073722-jnkncj6k/logs/debug-internal.log</code>"
            ],
            "text/plain": [
              "<IPython.core.display.HTML object>"
            ]
          },
          "metadata": {
            "tags": []
          }
        },
        {
          "output_type": "display_data",
          "data": {
            "text/html": [
              "<h3>Run summary:</h3><br/><style>\n",
              "    table.wandb td:nth-child(1) { padding: 0 10px; text-align: right }\n",
              "    </style><table class=\"wandb\">\n",
              "<tr><td>epoch</td><td>25</td></tr><tr><td>loss</td><td>0.09319</td></tr><tr><td>accuracy</td><td>0.9579</td></tr><tr><td>val_loss</td><td>0.13844</td></tr><tr><td>val_accuracy</td><td>0.93756</td></tr><tr><td>_runtime</td><td>106</td></tr><tr><td>_timestamp</td><td>1618558751</td></tr><tr><td>_step</td><td>25</td></tr><tr><td>best_val_loss</td><td>0.13844</td></tr><tr><td>best_epoch</td><td>25</td></tr></table>"
            ],
            "text/plain": [
              "<IPython.core.display.HTML object>"
            ]
          },
          "metadata": {
            "tags": []
          }
        },
        {
          "output_type": "display_data",
          "data": {
            "text/html": [
              "<h3>Run history:</h3><br/><style>\n",
              "    table.wandb td:nth-child(1) { padding: 0 10px; text-align: right }\n",
              "    </style><table class=\"wandb\">\n",
              "<tr><td>epoch</td><td>▁▁▂▂▂▂▃▃▃▄▄▄▄▅▅▅▅▆▆▆▇▇▇▇██</td></tr><tr><td>loss</td><td>█▆▅▄▃▃▃▂▂▂▂▂▂▂▂▁▁▁▁▁▁▁▁▁▁▁</td></tr><tr><td>accuracy</td><td>▁▃▃▄▄▄▄▅▅▅▅▆▆▆▇▇▇█████████</td></tr><tr><td>val_loss</td><td>█▆▅▄▃▃▂▂▂▂▂▂▁▁▁▁▁▁▁▁▁▁▁▁▁▁</td></tr><tr><td>val_accuracy</td><td>▁▂▃▃▃▃▃▄▄▄▅▆▆▅▅▅▆▇▇██▇▇▇▆▇</td></tr><tr><td>_runtime</td><td>▁▁▂▂▂▂▃▃▃▄▄▄▄▅▅▅▅▆▆▆▇▇▇▇██</td></tr><tr><td>_timestamp</td><td>▁▁▂▂▂▂▃▃▃▄▄▄▄▅▅▅▅▆▆▆▇▇▇▇██</td></tr><tr><td>_step</td><td>▁▁▂▂▂▂▃▃▃▄▄▄▄▅▅▅▅▆▆▆▇▇▇▇██</td></tr></table><br/>"
            ],
            "text/plain": [
              "<IPython.core.display.HTML object>"
            ]
          },
          "metadata": {
            "tags": []
          }
        },
        {
          "output_type": "display_data",
          "data": {
            "text/html": [
              "Synced 5 W&B file(s), 1 media file(s), 0 artifact file(s) and 1 other file(s)"
            ],
            "text/plain": [
              "<IPython.core.display.HTML object>"
            ]
          },
          "metadata": {
            "tags": []
          }
        },
        {
          "output_type": "display_data",
          "data": {
            "text/html": [
              "\n",
              "                    <br/>Synced <strong style=\"color:#cdcd00\">daily-pine-591</strong>: <a href=\"https://wandb.ai/ruzya2020/uncategorized/runs/jnkncj6k\" target=\"_blank\">https://wandb.ai/ruzya2020/uncategorized/runs/jnkncj6k</a><br/>\n",
              "                "
            ],
            "text/plain": [
              "<IPython.core.display.HTML object>"
            ]
          },
          "metadata": {
            "tags": []
          }
        },
        {
          "output_type": "display_data",
          "data": {
            "text/html": [
              "...Successfully finished last run (ID:jnkncj6k). Initializing new run:<br/><br/>"
            ],
            "text/plain": [
              "<IPython.core.display.HTML object>"
            ]
          },
          "metadata": {
            "tags": []
          }
        },
        {
          "output_type": "display_data",
          "data": {
            "text/html": [
              "\n",
              "                Tracking run with wandb version 0.10.26<br/>\n",
              "                Syncing run <strong style=\"color:#cdcd00\">legendary-fire-592</strong> to <a href=\"https://wandb.ai\" target=\"_blank\">Weights & Biases</a> <a href=\"https://docs.wandb.com/integrations/jupyter.html\" target=\"_blank\">(Documentation)</a>.<br/>\n",
              "                Project page: <a href=\"https://wandb.ai/ruzya2020/uncategorized\" target=\"_blank\">https://wandb.ai/ruzya2020/uncategorized</a><br/>\n",
              "                Run page: <a href=\"https://wandb.ai/ruzya2020/uncategorized/runs/lp9i9mkg\" target=\"_blank\">https://wandb.ai/ruzya2020/uncategorized/runs/lp9i9mkg</a><br/>\n",
              "                Run data is saved locally in <code>/content/wandb/run-20210416_073923-lp9i9mkg</code><br/><br/>\n",
              "            "
            ],
            "text/plain": [
              "<IPython.core.display.HTML object>"
            ]
          },
          "metadata": {
            "tags": []
          }
        },
        {
          "output_type": "execute_result",
          "data": {
            "text/plain": [
              "<wandb.sdk.wandb_run.Run at 0x7f46b02cf450>"
            ],
            "text/html": [
              "<h1>Run(lp9i9mkg)</h1><iframe src=\"https://wandb.ai/ruzya2020/uncategorized/runs/lp9i9mkg\" style=\"border:none;width:100%;height:400px\"></iframe>"
            ]
          },
          "metadata": {
            "tags": []
          },
          "execution_count": 49
        }
      ]
    },
    {
      "cell_type": "code",
      "metadata": {
        "colab": {
          "base_uri": "https://localhost:8080/"
        },
        "id": "w0XP1HBLBgUR",
        "outputId": "3e8dc8f6-6fd7-4f08-b053-2bfa13ebb292"
      },
      "source": [
        "\n",
        "size=10000\n",
        "model.fit([arr1[:size],arr2[:size]],np.array(df_edir['prediction'][:size]), batch_size= 30, epochs=30, callbacks=[WandbCallback()], validation_data=([arr1[size:],arr2[size:]],np.array(df_edir['prediction'][size:])))"
      ],
      "execution_count": null,
      "outputs": [
        {
          "output_type": "stream",
          "text": [
            "Epoch 1/30\n",
            "334/334 [==============================] - 6s 16ms/step - loss: 0.3625 - accuracy: 0.9018 - val_loss: 0.2207 - val_accuracy: 0.9337\n",
            "Epoch 2/30\n",
            "334/334 [==============================] - 5s 16ms/step - loss: 0.1973 - accuracy: 0.9399 - val_loss: 0.1825 - val_accuracy: 0.9325\n",
            "Epoch 3/30\n",
            "334/334 [==============================] - 5s 15ms/step - loss: 0.1550 - accuracy: 0.9440 - val_loss: 0.1595 - val_accuracy: 0.9325\n",
            "Epoch 4/30\n",
            "334/334 [==============================] - 5s 15ms/step - loss: 0.1362 - accuracy: 0.9419 - val_loss: 0.1464 - val_accuracy: 0.9336\n",
            "Epoch 5/30\n",
            "334/334 [==============================] - 5s 15ms/step - loss: 0.1208 - accuracy: 0.9467 - val_loss: 0.1385 - val_accuracy: 0.9350\n",
            "Epoch 6/30\n",
            "334/334 [==============================] - 5s 15ms/step - loss: 0.1071 - accuracy: 0.9521 - val_loss: 0.1345 - val_accuracy: 0.9356\n",
            "Epoch 7/30\n",
            "334/334 [==============================] - 5s 16ms/step - loss: 0.1025 - accuracy: 0.9514 - val_loss: 0.1318 - val_accuracy: 0.9359\n",
            "Epoch 8/30\n",
            "334/334 [==============================] - 5s 15ms/step - loss: 0.0950 - accuracy: 0.9529 - val_loss: 0.1286 - val_accuracy: 0.9374\n",
            "Epoch 9/30\n",
            "334/334 [==============================] - 5s 15ms/step - loss: 0.0914 - accuracy: 0.9545 - val_loss: 0.1216 - val_accuracy: 0.9365\n",
            "Epoch 10/30\n",
            "334/334 [==============================] - 5s 16ms/step - loss: 0.0784 - accuracy: 0.9573 - val_loss: 0.1200 - val_accuracy: 0.9377\n",
            "Epoch 11/30\n",
            "334/334 [==============================] - 5s 15ms/step - loss: 0.0731 - accuracy: 0.9602 - val_loss: 0.1175 - val_accuracy: 0.9371\n",
            "Epoch 12/30\n",
            "334/334 [==============================] - 5s 15ms/step - loss: 0.0714 - accuracy: 0.9604 - val_loss: 0.1153 - val_accuracy: 0.9376\n",
            "Epoch 13/30\n",
            "334/334 [==============================] - 5s 15ms/step - loss: 0.0659 - accuracy: 0.9616 - val_loss: 0.1122 - val_accuracy: 0.9377\n",
            "Epoch 14/30\n",
            "334/334 [==============================] - 5s 15ms/step - loss: 0.0622 - accuracy: 0.9610 - val_loss: 0.1077 - val_accuracy: 0.9385\n",
            "Epoch 15/30\n",
            "334/334 [==============================] - 5s 15ms/step - loss: 0.0546 - accuracy: 0.9667 - val_loss: 0.1039 - val_accuracy: 0.9405\n",
            "Epoch 16/30\n",
            "334/334 [==============================] - 5s 15ms/step - loss: 0.0505 - accuracy: 0.9659 - val_loss: 0.1061 - val_accuracy: 0.9412\n",
            "Epoch 17/30\n",
            "334/334 [==============================] - 5s 15ms/step - loss: 0.0495 - accuracy: 0.9637 - val_loss: 0.0994 - val_accuracy: 0.9406\n",
            "Epoch 18/30\n",
            "334/334 [==============================] - 5s 15ms/step - loss: 0.0449 - accuracy: 0.9646 - val_loss: 0.1009 - val_accuracy: 0.9412\n",
            "Epoch 19/30\n",
            "334/334 [==============================] - 5s 15ms/step - loss: 0.0391 - accuracy: 0.9682 - val_loss: 0.1005 - val_accuracy: 0.9434\n",
            "Epoch 20/30\n",
            "334/334 [==============================] - 5s 16ms/step - loss: 0.0381 - accuracy: 0.9875 - val_loss: 0.1009 - val_accuracy: 0.9698\n",
            "Epoch 21/30\n",
            "334/334 [==============================] - 5s 16ms/step - loss: 0.0364 - accuracy: 0.9952 - val_loss: 0.0982 - val_accuracy: 0.9699\n",
            "Epoch 22/30\n",
            "334/334 [==============================] - 5s 16ms/step - loss: 0.0318 - accuracy: 0.9946 - val_loss: 0.0997 - val_accuracy: 0.9689\n",
            "Epoch 23/30\n",
            "334/334 [==============================] - 5s 15ms/step - loss: 0.0316 - accuracy: 0.9939 - val_loss: 0.1033 - val_accuracy: 0.9650\n",
            "Epoch 24/30\n",
            "334/334 [==============================] - 5s 15ms/step - loss: 0.0294 - accuracy: 0.9947 - val_loss: 0.0994 - val_accuracy: 0.9685\n",
            "Epoch 25/30\n",
            "334/334 [==============================] - 5s 15ms/step - loss: 0.0278 - accuracy: 0.9945 - val_loss: 0.1017 - val_accuracy: 0.9663\n",
            "Epoch 26/30\n",
            "334/334 [==============================] - 5s 15ms/step - loss: 0.0282 - accuracy: 0.9941 - val_loss: 0.0998 - val_accuracy: 0.9678\n",
            "Epoch 27/30\n",
            "334/334 [==============================] - 5s 16ms/step - loss: 0.0244 - accuracy: 0.9958 - val_loss: 0.1032 - val_accuracy: 0.9653\n",
            "Epoch 28/30\n",
            "334/334 [==============================] - 5s 15ms/step - loss: 0.0225 - accuracy: 0.9961 - val_loss: 0.1009 - val_accuracy: 0.9693\n",
            "Epoch 29/30\n",
            "334/334 [==============================] - 5s 15ms/step - loss: 0.0223 - accuracy: 0.9955 - val_loss: 0.1027 - val_accuracy: 0.9685\n",
            "Epoch 30/30\n",
            "334/334 [==============================] - 5s 15ms/step - loss: 0.0222 - accuracy: 0.9969 - val_loss: 0.1101 - val_accuracy: 0.9641\n"
          ],
          "name": "stdout"
        },
        {
          "output_type": "execute_result",
          "data": {
            "text/plain": [
              "<tensorflow.python.keras.callbacks.History at 0x7f469a75bd10>"
            ]
          },
          "metadata": {
            "tags": []
          },
          "execution_count": 53
        }
      ]
    },
    {
      "cell_type": "code",
      "metadata": {
        "colab": {
          "base_uri": "https://localhost:8080/",
          "height": 164
        },
        "id": "p0BvCtZZErVN",
        "outputId": "b59e50ca-f8be-4466-fe4a-e7649cabf34a"
      },
      "source": [
        "model.evaluate((tf.convert_to_tensor(arr1[:]),tf.convert_to_tensor(arr2[:])),np.array(df_edir['prediction'][:]))"
      ],
      "execution_count": null,
      "outputs": [
        {
          "output_type": "error",
          "ename": "NameError",
          "evalue": "ignored",
          "traceback": [
            "\u001b[0;31m---------------------------------------------------------------------------\u001b[0m",
            "\u001b[0;31mNameError\u001b[0m                                 Traceback (most recent call last)",
            "\u001b[0;32m<ipython-input-1-0a3ef41bbcf1>\u001b[0m in \u001b[0;36m<module>\u001b[0;34m()\u001b[0m\n\u001b[0;32m----> 1\u001b[0;31m \u001b[0mmodel\u001b[0m\u001b[0;34m.\u001b[0m\u001b[0mevaluate\u001b[0m\u001b[0;34m(\u001b[0m\u001b[0;34m(\u001b[0m\u001b[0mtf\u001b[0m\u001b[0;34m.\u001b[0m\u001b[0mconvert_to_tensor\u001b[0m\u001b[0;34m(\u001b[0m\u001b[0marr1\u001b[0m\u001b[0;34m[\u001b[0m\u001b[0;34m:\u001b[0m\u001b[0;34m]\u001b[0m\u001b[0;34m)\u001b[0m\u001b[0;34m,\u001b[0m\u001b[0mtf\u001b[0m\u001b[0;34m.\u001b[0m\u001b[0mconvert_to_tensor\u001b[0m\u001b[0;34m(\u001b[0m\u001b[0marr2\u001b[0m\u001b[0;34m[\u001b[0m\u001b[0;34m:\u001b[0m\u001b[0;34m]\u001b[0m\u001b[0;34m)\u001b[0m\u001b[0;34m)\u001b[0m\u001b[0;34m,\u001b[0m\u001b[0mnp\u001b[0m\u001b[0;34m.\u001b[0m\u001b[0marray\u001b[0m\u001b[0;34m(\u001b[0m\u001b[0mdf_edir\u001b[0m\u001b[0;34m[\u001b[0m\u001b[0;34m'prediction'\u001b[0m\u001b[0;34m]\u001b[0m\u001b[0;34m[\u001b[0m\u001b[0;34m:\u001b[0m\u001b[0;34m]\u001b[0m\u001b[0;34m)\u001b[0m\u001b[0;34m)\u001b[0m\u001b[0;34m\u001b[0m\u001b[0;34m\u001b[0m\u001b[0m\n\u001b[0m",
            "\u001b[0;31mNameError\u001b[0m: name 'model' is not defined"
          ]
        }
      ]
    },
    {
      "cell_type": "code",
      "metadata": {
        "colab": {
          "base_uri": "https://localhost:8080/",
          "height": 35
        },
        "id": "_5W64MJc2SGE",
        "outputId": "8e34e17b-9da7-49d1-f92b-1ba4fe4f6119"
      },
      "source": [
        "data_dir3 = os.path.join('/content/gdrive/My Drive/Datasets/output_CNN')\n",
        "data_dir3"
      ],
      "execution_count": null,
      "outputs": [
        {
          "output_type": "execute_result",
          "data": {
            "application/vnd.google.colaboratory.intrinsic+json": {
              "type": "string"
            },
            "text/plain": [
              "'/content/gdrive/My Drive/Datasets/output_CNN'"
            ]
          },
          "metadata": {
            "tags": []
          },
          "execution_count": 65
        }
      ]
    },
    {
      "cell_type": "code",
      "metadata": {
        "colab": {
          "base_uri": "https://localhost:8080/"
        },
        "id": "D98HkJ-F4Uln",
        "outputId": "76a65e15-9cf1-486a-9eea-2a80223a1e1c"
      },
      "source": [
        "model.save(data_dir3)"
      ],
      "execution_count": null,
      "outputs": [
        {
          "output_type": "stream",
          "text": [
            "INFO:tensorflow:Assets written to: /content/gdrive/My Drive/Datasets/output_CNN/assets\n"
          ],
          "name": "stdout"
        }
      ]
    },
    {
      "cell_type": "code",
      "metadata": {
        "colab": {
          "base_uri": "https://localhost:8080/",
          "height": 80
        },
        "id": "PklTlxTQiZiG",
        "outputId": "ce5ba33d-463f-4d9e-ef7a-45c8846f4f21"
      },
      "source": [
        "\n",
        "df=pd.DataFrame(dic)\n",
        "df.T"
      ],
      "execution_count": null,
      "outputs": [
        {
          "output_type": "execute_result",
          "data": {
            "text/html": [
              "<div>\n",
              "<style scoped>\n",
              "    .dataframe tbody tr th:only-of-type {\n",
              "        vertical-align: middle;\n",
              "    }\n",
              "\n",
              "    .dataframe tbody tr th {\n",
              "        vertical-align: top;\n",
              "    }\n",
              "\n",
              "    .dataframe thead th {\n",
              "        text-align: right;\n",
              "    }\n",
              "</style>\n",
              "<table border=\"1\" class=\"dataframe\">\n",
              "  <thead>\n",
              "    <tr style=\"text-align: right;\">\n",
              "      <th></th>\n",
              "      <th>element</th>\n",
              "      <th>signature</th>\n",
              "      <th>prediction</th>\n",
              "    </tr>\n",
              "  </thead>\n",
              "  <tbody>\n",
              "    <tr>\n",
              "      <th>0</th>\n",
              "      <td>[[8, 1, 1, 1, 10, 17, 8, 1, 1, 1, 212, 10, 17,...</td>\n",
              "      <td>[[8, 57, 57, 57, 10, 17, 8, 57, 57, 57, 17, 10...</td>\n",
              "      <td>[0.0, 1.0, 0.0, 0.0, 0.0, 1.0, 0.0, 0.0, 0.0, ...</td>\n",
              "    </tr>\n",
              "  </tbody>\n",
              "</table>\n",
              "</div>"
            ],
            "text/plain": [
              "                                             element  ...                                         prediction\n",
              "0  [[8, 1, 1, 1, 10, 17, 8, 1, 1, 1, 212, 10, 17,...  ...  [0.0, 1.0, 0.0, 0.0, 0.0, 1.0, 0.0, 0.0, 0.0, ...\n",
              "\n",
              "[1 rows x 3 columns]"
            ]
          },
          "metadata": {
            "tags": []
          },
          "execution_count": 72
        }
      ]
    },
    {
      "cell_type": "code",
      "metadata": {
        "id": "W32h00J0U8Dm"
      },
      "source": [
        "df_edir=df_edir.sample(frac=1)"
      ],
      "execution_count": null,
      "outputs": []
    },
    {
      "cell_type": "code",
      "metadata": {
        "colab": {
          "base_uri": "https://localhost:8080/",
          "height": 111
        },
        "id": "3bOH-fimhS4c",
        "outputId": "e85306f7-ceb4-4d61-80ed-f70edb19ae6d"
      },
      "source": [
        "df##"
      ],
      "execution_count": null,
      "outputs": [
        {
          "output_type": "execute_result",
          "data": {
            "text/html": [
              "<div>\n",
              "<style scoped>\n",
              "    .dataframe tbody tr th:only-of-type {\n",
              "        vertical-align: middle;\n",
              "    }\n",
              "\n",
              "    .dataframe tbody tr th {\n",
              "        vertical-align: top;\n",
              "    }\n",
              "\n",
              "    .dataframe thead th {\n",
              "        text-align: right;\n",
              "    }\n",
              "</style>\n",
              "<table border=\"1\" class=\"dataframe\">\n",
              "  <thead>\n",
              "    <tr style=\"text-align: right;\">\n",
              "      <th></th>\n",
              "      <th>0</th>\n",
              "    </tr>\n",
              "  </thead>\n",
              "  <tbody>\n",
              "    <tr>\n",
              "      <th>element</th>\n",
              "      <td>[[8, 1, 1, 1, 10, 17, 8, 1, 1, 1, 212, 10, 17,...</td>\n",
              "    </tr>\n",
              "    <tr>\n",
              "      <th>signature</th>\n",
              "      <td>[[8, 57, 57, 57, 10, 17, 8, 57, 57, 57, 17, 10...</td>\n",
              "    </tr>\n",
              "  </tbody>\n",
              "</table>\n",
              "</div>"
            ],
            "text/plain": [
              "                                                           0\n",
              "element    [[8, 1, 1, 1, 10, 17, 8, 1, 1, 1, 212, 10, 17,...\n",
              "signature  [[8, 57, 57, 57, 10, 17, 8, 57, 57, 57, 17, 10..."
            ]
          },
          "metadata": {
            "tags": []
          },
          "execution_count": 76
        }
      ]
    }
  ]
}